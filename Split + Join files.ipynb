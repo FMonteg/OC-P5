{
 "cells": [
  {
   "cell_type": "code",
   "execution_count": 1,
   "id": "edf3695a",
   "metadata": {},
   "outputs": [],
   "source": [
    "import pickle as p\n",
    "import os"
   ]
  },
  {
   "cell_type": "code",
   "execution_count": 2,
   "id": "c6411a7e",
   "metadata": {},
   "outputs": [],
   "source": [
    "def split(source, dest_folder, write_size, file_name):\n",
    "    # Make a destination folder if it doesn't exist yet\n",
    "    if not os.path.exists(dest_folder):\n",
    "        os.mkdir(dest_folder)\n",
    "    else:\n",
    "        # Otherwise clean out all files in the destination folder\n",
    "        for file in os.listdir(dest_folder):\n",
    "            os.remove(os.path.join(dest_folder, file))\n",
    "    partnum = 0\n",
    "    \n",
    "    # Open the source file in binary mode\n",
    "    input_file = open(source, 'rb')\n",
    "    while True:\n",
    "        # Read a portion of the input file\n",
    "        chunk = input_file.read(write_size)\n",
    "        \n",
    "        # End the loop if we have hit EOF\n",
    "        if not chunk:\n",
    "            break\n",
    "        \n",
    "        # Increment partnum\n",
    "        partnum += 1\n",
    "        \n",
    "        # Create a new file name\n",
    "        filename = '/Model_Files/' + file_name + str(partnum)\n",
    "        \n",
    "        # Create a destination file\n",
    "        dest_file = open(filename, 'wb')\n",
    "        \n",
    "        # Write to this portion of the destination file\n",
    "        dest_file.write(chunk)\n",
    "        # Explicitly close \n",
    "        dest_file.close()\n",
    "    # Explicitly close\n",
    "    input_file.close()\n",
    "    # Return the number of files created by the split\n",
    "    return partnum"
   ]
  },
  {
   "cell_type": "code",
   "execution_count": null,
   "id": "d4e2cb69",
   "metadata": {},
   "outputs": [],
   "source": []
  },
  {
   "cell_type": "code",
   "execution_count": 5,
   "id": "c9fde17b",
   "metadata": {},
   "outputs": [
    {
     "data": {
      "text/plain": [
       "7"
      ]
     },
     "execution_count": 5,
     "metadata": {},
     "output_type": "execute_result"
    }
   ],
   "source": [
    "split(source='classifier.pi', write_size=20000000, dest_folder='/Model_Files/', file_name='class_')"
   ]
  },
  {
   "cell_type": "code",
   "execution_count": 4,
   "id": "aa2367fd",
   "metadata": {},
   "outputs": [
    {
     "data": {
      "text/plain": [
       "2"
      ]
     },
     "execution_count": 4,
     "metadata": {},
     "output_type": "execute_result"
    }
   ],
   "source": [
    "split(source='vectorizer.pi', write_size=20000000, dest_folder='/Model_Files/', file_name='vect_')"
   ]
  },
  {
   "cell_type": "code",
   "execution_count": null,
   "id": "0959ad61",
   "metadata": {},
   "outputs": [],
   "source": []
  },
  {
   "cell_type": "code",
   "execution_count": null,
   "id": "7da0240c",
   "metadata": {},
   "outputs": [],
   "source": [
    "def join(prefix_files, num_files, dest_file, read_size):\n",
    "    # Create a new destination file\n",
    "    output_file = open(dest_file, 'wb')\n",
    "    # Get a list of the file parts\n",
    "    parts = [prefix_files+'{}'.format(i+1) for i in range(num_files)]\n",
    "    # Go through each portion one by one\n",
    "    for file in parts:\n",
    "        # Assemble the full path to the file\n",
    "        path = file\n",
    "        # Open the part\n",
    "        input_file = open(path, 'rb')\n",
    "        while True:\n",
    "            # Read all bytes of the part\n",
    "            byte = input_file.read(read_size)\n",
    "            # Break out of loop if we are at end of file\n",
    "            if not byte:\n",
    "                break\n",
    "            # Write the bytes to the output file\n",
    "            output_file.write(byte)\n",
    "        # Close the input file\n",
    "        input_file.close()\n",
    "    # Close the output file\n",
    "    output_file.close()"
   ]
  }
 ],
 "metadata": {
  "kernelspec": {
   "display_name": "Python 3 (ipykernel)",
   "language": "python",
   "name": "python3"
  },
  "language_info": {
   "codemirror_mode": {
    "name": "ipython",
    "version": 3
   },
   "file_extension": ".py",
   "mimetype": "text/x-python",
   "name": "python",
   "nbconvert_exporter": "python",
   "pygments_lexer": "ipython3",
   "version": "3.9.12"
  }
 },
 "nbformat": 4,
 "nbformat_minor": 5
}
