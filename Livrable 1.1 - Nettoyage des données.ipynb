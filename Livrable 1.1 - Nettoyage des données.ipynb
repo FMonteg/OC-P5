{
 "cells": [
  {
   "cell_type": "markdown",
   "metadata": {},
   "source": [
    "# Nettoyage des données\n",
    "\n",
    "## Import des données\n",
    "\n",
    "On a récupéré des textes de questions du site stackexchange, en préselectionnant les questions ayant au moins un certain nombre de vues, de réponses, d'avis positifs et surtout de tags associés à la question.\n",
    "\n",
    "Commençons par importer les bibliothèques requises pour le nettoyage et traitement des données."
   ]
  },
  {
   "cell_type": "code",
   "execution_count": 1,
   "metadata": {},
   "outputs": [],
   "source": [
    "#import des bibliothèques requises\n",
    "import pandas as pd\n",
    "import numpy as np\n",
    "#Gestion des strings\n",
    "import string\n",
    "import re\n",
    "#Traitement de textes\n",
    "import nltk\n",
    "from nltk.corpus import stopwords\n",
    "import spacy"
   ]
  },
  {
   "cell_type": "markdown",
   "metadata": {},
   "source": [
    "On charge désormais la base de données dans un dataframe avant de la visualiser."
   ]
  },
  {
   "cell_type": "code",
   "execution_count": 2,
   "metadata": {},
   "outputs": [
    {
     "name": "stdout",
     "output_type": "stream",
     "text": [
      "(27128, 8)\n",
      "Index(['Title', 'Body', 'Tags', 'Id', 'Score', 'ViewCount', 'FavoriteCount',\n",
      "       'AnswerCount'],\n",
      "      dtype='object')\n"
     ]
    },
    {
     "data": {
      "text/html": [
       "<div>\n",
       "<style scoped>\n",
       "    .dataframe tbody tr th:only-of-type {\n",
       "        vertical-align: middle;\n",
       "    }\n",
       "\n",
       "    .dataframe tbody tr th {\n",
       "        vertical-align: top;\n",
       "    }\n",
       "\n",
       "    .dataframe thead th {\n",
       "        text-align: right;\n",
       "    }\n",
       "</style>\n",
       "<table border=\"1\" class=\"dataframe\">\n",
       "  <thead>\n",
       "    <tr style=\"text-align: right;\">\n",
       "      <th></th>\n",
       "      <th>Title</th>\n",
       "      <th>Body</th>\n",
       "      <th>Tags</th>\n",
       "      <th>Id</th>\n",
       "      <th>Score</th>\n",
       "      <th>ViewCount</th>\n",
       "      <th>FavoriteCount</th>\n",
       "      <th>AnswerCount</th>\n",
       "    </tr>\n",
       "  </thead>\n",
       "  <tbody>\n",
       "    <tr>\n",
       "      <th>0</th>\n",
       "      <td>Mercator longitude and latitude calculations t...</td>\n",
       "      <td>&lt;p&gt;I have this image. It's a map of the UK (no...</td>\n",
       "      <td>&lt;javascript&gt;&lt;geolocation&gt;&lt;projection&gt;&lt;processi...</td>\n",
       "      <td>2103924</td>\n",
       "      <td>19</td>\n",
       "      <td>30199</td>\n",
       "      <td>29</td>\n",
       "      <td>10</td>\n",
       "    </tr>\n",
       "    <tr>\n",
       "      <th>1</th>\n",
       "      <td>Starting point for learning CAD/CAE file formats?</td>\n",
       "      <td>&lt;p&gt;We are developing some stress and strain an...</td>\n",
       "      <td>&lt;c++&gt;&lt;file-format&gt;&lt;autocad&gt;&lt;cad&gt;&lt;solid-bodies&gt;</td>\n",
       "      <td>1024323</td>\n",
       "      <td>6</td>\n",
       "      <td>6097</td>\n",
       "      <td>11</td>\n",
       "      <td>6</td>\n",
       "    </tr>\n",
       "    <tr>\n",
       "      <th>2</th>\n",
       "      <td>LINQ query on a DataTable</td>\n",
       "      <td>&lt;p&gt;I'm trying to perform a LINQ query on a Dat...</td>\n",
       "      <td>&lt;c#&gt;&lt;.net&gt;&lt;linq&gt;&lt;datatable&gt;&lt;.net-3.5&gt;</td>\n",
       "      <td>10855</td>\n",
       "      <td>1107</td>\n",
       "      <td>1042939</td>\n",
       "      <td>215</td>\n",
       "      <td>22</td>\n",
       "    </tr>\n",
       "    <tr>\n",
       "      <th>3</th>\n",
       "      <td>How to overload std::swap()</td>\n",
       "      <td>&lt;p&gt;&lt;code&gt;std::swap()&lt;/code&gt; is used by many st...</td>\n",
       "      <td>&lt;c++&gt;&lt;performance&gt;&lt;optimization&gt;&lt;stl&gt;&lt;c++-faq&gt;</td>\n",
       "      <td>11562</td>\n",
       "      <td>122</td>\n",
       "      <td>34718</td>\n",
       "      <td>50</td>\n",
       "      <td>4</td>\n",
       "    </tr>\n",
       "    <tr>\n",
       "      <th>4</th>\n",
       "      <td>How do you get a directory listing in C?</td>\n",
       "      <td>&lt;p&gt;How do you scan a directory for folders and...</td>\n",
       "      <td>&lt;c&gt;&lt;file&gt;&lt;directory&gt;&lt;cross-platform&gt;&lt;common-ta...</td>\n",
       "      <td>12489</td>\n",
       "      <td>65</td>\n",
       "      <td>136135</td>\n",
       "      <td>21</td>\n",
       "      <td>9</td>\n",
       "    </tr>\n",
       "  </tbody>\n",
       "</table>\n",
       "</div>"
      ],
      "text/plain": [
       "                                               Title  \\\n",
       "0  Mercator longitude and latitude calculations t...   \n",
       "1  Starting point for learning CAD/CAE file formats?   \n",
       "2                          LINQ query on a DataTable   \n",
       "3                        How to overload std::swap()   \n",
       "4           How do you get a directory listing in C?   \n",
       "\n",
       "                                                Body  \\\n",
       "0  <p>I have this image. It's a map of the UK (no...   \n",
       "1  <p>We are developing some stress and strain an...   \n",
       "2  <p>I'm trying to perform a LINQ query on a Dat...   \n",
       "3  <p><code>std::swap()</code> is used by many st...   \n",
       "4  <p>How do you scan a directory for folders and...   \n",
       "\n",
       "                                                Tags       Id  Score  \\\n",
       "0  <javascript><geolocation><projection><processi...  2103924     19   \n",
       "1     <c++><file-format><autocad><cad><solid-bodies>  1024323      6   \n",
       "2              <c#><.net><linq><datatable><.net-3.5>    10855   1107   \n",
       "3     <c++><performance><optimization><stl><c++-faq>    11562    122   \n",
       "4  <c><file><directory><cross-platform><common-ta...    12489     65   \n",
       "\n",
       "   ViewCount  FavoriteCount  AnswerCount  \n",
       "0      30199             29           10  \n",
       "1       6097             11            6  \n",
       "2    1042939            215           22  \n",
       "3      34718             50            4  \n",
       "4     136135             21            9  "
      ]
     },
     "execution_count": 2,
     "metadata": {},
     "output_type": "execute_result"
    }
   ],
   "source": [
    "#On importe le jeu de données\n",
    "data = pd.read_csv('QueryResults.csv')\n",
    "#On affiche sa taille et les noms des colonnes\n",
    "print(data.shape)\n",
    "print(data.columns)\n",
    "#On affiche les premières lignes pour mieux comprendre les données\n",
    "data.head()"
   ]
  },
  {
   "cell_type": "markdown",
   "metadata": {},
   "source": [
    "On commence par se défausser des variables qui nous seront inutiles ; on ne gardera que le titre et le corps de la question (qui constituent le texte à étudier) ainsi que les tags pour l'apprentissage supervisé."
   ]
  },
  {
   "cell_type": "code",
   "execution_count": 3,
   "metadata": {},
   "outputs": [
    {
     "data": {
      "text/html": [
       "<div>\n",
       "<style scoped>\n",
       "    .dataframe tbody tr th:only-of-type {\n",
       "        vertical-align: middle;\n",
       "    }\n",
       "\n",
       "    .dataframe tbody tr th {\n",
       "        vertical-align: top;\n",
       "    }\n",
       "\n",
       "    .dataframe thead th {\n",
       "        text-align: right;\n",
       "    }\n",
       "</style>\n",
       "<table border=\"1\" class=\"dataframe\">\n",
       "  <thead>\n",
       "    <tr style=\"text-align: right;\">\n",
       "      <th></th>\n",
       "      <th>Title</th>\n",
       "      <th>Body</th>\n",
       "      <th>Tags</th>\n",
       "    </tr>\n",
       "  </thead>\n",
       "  <tbody>\n",
       "    <tr>\n",
       "      <th>0</th>\n",
       "      <td>Mercator longitude and latitude calculations t...</td>\n",
       "      <td>&lt;p&gt;I have this image. It's a map of the UK (no...</td>\n",
       "      <td>&lt;javascript&gt;&lt;geolocation&gt;&lt;projection&gt;&lt;processi...</td>\n",
       "    </tr>\n",
       "    <tr>\n",
       "      <th>1</th>\n",
       "      <td>Starting point for learning CAD/CAE file formats?</td>\n",
       "      <td>&lt;p&gt;We are developing some stress and strain an...</td>\n",
       "      <td>&lt;c++&gt;&lt;file-format&gt;&lt;autocad&gt;&lt;cad&gt;&lt;solid-bodies&gt;</td>\n",
       "    </tr>\n",
       "    <tr>\n",
       "      <th>2</th>\n",
       "      <td>LINQ query on a DataTable</td>\n",
       "      <td>&lt;p&gt;I'm trying to perform a LINQ query on a Dat...</td>\n",
       "      <td>&lt;c#&gt;&lt;.net&gt;&lt;linq&gt;&lt;datatable&gt;&lt;.net-3.5&gt;</td>\n",
       "    </tr>\n",
       "    <tr>\n",
       "      <th>3</th>\n",
       "      <td>How to overload std::swap()</td>\n",
       "      <td>&lt;p&gt;&lt;code&gt;std::swap()&lt;/code&gt; is used by many st...</td>\n",
       "      <td>&lt;c++&gt;&lt;performance&gt;&lt;optimization&gt;&lt;stl&gt;&lt;c++-faq&gt;</td>\n",
       "    </tr>\n",
       "    <tr>\n",
       "      <th>4</th>\n",
       "      <td>How do you get a directory listing in C?</td>\n",
       "      <td>&lt;p&gt;How do you scan a directory for folders and...</td>\n",
       "      <td>&lt;c&gt;&lt;file&gt;&lt;directory&gt;&lt;cross-platform&gt;&lt;common-ta...</td>\n",
       "    </tr>\n",
       "  </tbody>\n",
       "</table>\n",
       "</div>"
      ],
      "text/plain": [
       "                                               Title  \\\n",
       "0  Mercator longitude and latitude calculations t...   \n",
       "1  Starting point for learning CAD/CAE file formats?   \n",
       "2                          LINQ query on a DataTable   \n",
       "3                        How to overload std::swap()   \n",
       "4           How do you get a directory listing in C?   \n",
       "\n",
       "                                                Body  \\\n",
       "0  <p>I have this image. It's a map of the UK (no...   \n",
       "1  <p>We are developing some stress and strain an...   \n",
       "2  <p>I'm trying to perform a LINQ query on a Dat...   \n",
       "3  <p><code>std::swap()</code> is used by many st...   \n",
       "4  <p>How do you scan a directory for folders and...   \n",
       "\n",
       "                                                Tags  \n",
       "0  <javascript><geolocation><projection><processi...  \n",
       "1     <c++><file-format><autocad><cad><solid-bodies>  \n",
       "2              <c#><.net><linq><datatable><.net-3.5>  \n",
       "3     <c++><performance><optimization><stl><c++-faq>  \n",
       "4  <c><file><directory><cross-platform><common-ta...  "
      ]
     },
     "execution_count": 3,
     "metadata": {},
     "output_type": "execute_result"
    }
   ],
   "source": [
    "data.drop(columns = ['Id', 'Score', 'ViewCount', 'FavoriteCount', 'AnswerCount'], inplace = True)\n",
    "data.head()"
   ]
  },
  {
   "cell_type": "markdown",
   "metadata": {},
   "source": [
    "## Formatage des textes\n",
    "\n",
    "On va afficher les textes de la première entrée pour voir sous quel(s) format(s) ils sont rédigés. "
   ]
  },
  {
   "cell_type": "code",
   "execution_count": 4,
   "metadata": {},
   "outputs": [
    {
     "name": "stdout",
     "output_type": "stream",
     "text": [
      "Titre :\n",
      "Mercator longitude and latitude calculations to x and y on a cropped map (of the UK) \n",
      "\n",
      "Corps du texte :\n",
      "<p>I have this image. It's a map of the UK (not including Southern Ireland):</p>\n",
      "\n",
      "<p><a href=\"https://i.stack.imgur.com/KUcpE.png\" rel=\"nofollow noreferrer\"><img src=\"https://i.stack.imgur.com/KUcpE.png\" alt=\"UK Map\"></a> </p>\n",
      "\n",
      "<p>I have successfully managed to get a latitude and longitude and plot it onto this map by taking the leftmost longitude and rightmost longitude of the UK and using them to work out where to put the point on the map.</p>\n",
      "\n",
      "<p>This is the code (for use in Processing.js but could be used as js or anything):</p>\n",
      "\n",
      "<pre><code>// Size of the map\n",
      "int width = 538;\n",
      "int height = 811;\n",
      "// X and Y boundaries\n",
      "float westLong = -8.166667;\n",
      "float eastLong = 1.762833;\n",
      "float northLat = 58.666667;\n",
      "float southLat = 49.95;\n",
      "\n",
      "void drawPoint(float latitude, float longitude){\n",
      "\n",
      " fill(#000000);\n",
      "\n",
      " x = width * ((westLong-longitude)/(westLong-eastLong));\n",
      " y = (height * ((northLat-latitude)/(northLat-southLat)));\n",
      "\n",
      " console.log(x + \", \" + y);\n",
      " ellipseMode(RADIUS);\n",
      " ellipse(x, y, 2, 2);    \n",
      "\n",
      "}\n",
      "</code></pre>\n",
      "\n",
      "<p>However, I haven't been able to implement a Mercator projection on these values. The plots are reasonably accurate but they are not good enough and this projection would solve it.</p>\n",
      "\n",
      "<p>I can't figure out how to do it. All the examples I find are explaining how to do it for the whole world. <a href=\"http://wiki.openstreetmap.org/index.php/Mercator\" rel=\"nofollow noreferrer\">This</a> is a good resource of examples explaining how to implement the projection but I haven't been able to get it to work.</p>\n",
      "\n",
      "<p>Another resource is the <a href=\"http://en.wikipedia.org/wiki/Extreme_points_of_the_United_Kingdom\" rel=\"nofollow noreferrer\">Extreme points of the United Kingdom</a> where I got the latitude and longitude values of the bounding box around the UK. They are also here:</p>\n",
      "\n",
      "<pre><code>northLat = 58.666667; \n",
      "northLong = -3.366667; \n",
      "eastLat = 52.481167; \n",
      "eastLong = 1.762833; \n",
      "southLat = 49.95;\n",
      "southLong = -5.2; \n",
      "westLat = 54.45;\n",
      "westLong = -8.166667;\n",
      "</code></pre>\n",
      "\n",
      "<p>If anyone could help me with this, I would greatly appreciate it!</p>\n",
      "\n",
      "<p>Thanks</p>\n",
      " \n",
      "\n",
      "Tags associés :\n",
      "<javascript><geolocation><projection><processing.js><proj4js>\n"
     ]
    }
   ],
   "source": [
    "print(\"Titre :\")\n",
    "print(data.iloc[0,0], '\\n')\n",
    "print(\"Corps du texte :\")\n",
    "print(data.iloc[0,1], '\\n')\n",
    "print(\"Tags associés :\")\n",
    "print(data.iloc[0,2])"
   ]
  },
  {
   "cell_type": "markdown",
   "metadata": {},
   "source": [
    "Le corps du texte est au format HTML, avec des **balises** permettant de structurer le texte. Il nous faut comprendre cette mise en forme pour la transformer en quelque chose de plus manipulable. Heureusement pour nous toutes ces balises se trouvent entre chevrons (par exemple \"**<p\\>**\")."
   ]
  },
  {
   "cell_type": "code",
   "execution_count": 5,
   "metadata": {},
   "outputs": [],
   "source": [
    "#On va chercher les balises utilisées dans notre corpus en cherchant les chevrons dans le texte\n",
    "#(le paramètre \"interdites\" permet de lister des balises qu'on ne souhaite pas détecter)\n",
    "def find_balises(textes, interdites):\n",
    "    balises = []\n",
    "    for t in textes :\n",
    "        #On cherche une première balise\n",
    "        temp = t.find('<')\n",
    "        n = len(t)\n",
    "        while temp >= 0:\n",
    "            #Certaines balises prennent des paramètres entre les chevrons, il faut donc s'arrêter\n",
    "            #au chevron fermant OU au premier espace\n",
    "            end1 = t.find('>', temp+1, n)\n",
    "            end2 = t.find(' ', temp+1, n)\n",
    "            #On identifie la balise que l'on vient de trouver\n",
    "            candidat = t[temp+1:min_modif(end1, end2, n)]\n",
    "            #Si cette balise est nouvelle (et n'est pas \"interdite\")...\n",
    "            if (candidat not in balises) and (candidat not in interdites):\n",
    "                #... on l'ajoute à la liste\n",
    "                balises.append(candidat)\n",
    "            #On cherche la balise suivante (s'il n'y en a pas la fonction renvoie -1)\n",
    "            temp = t.find('<', temp+1, n)\n",
    "    return balises\n",
    "\n",
    "#La fonction \"find\" pouvant renvoyer -1 il faut adapter la fonction \"min\" à ces cas particuliers\n",
    "#en faisant comme si ce -1 valait plus que n, la longueur maximale possible dans ce contexte\n",
    "def min_modif(a,b,n):\n",
    "    if a < 0:\n",
    "        if b < 0:\n",
    "            return n\n",
    "        else:\n",
    "            return b\n",
    "    elif b < 0:\n",
    "        return a\n",
    "    else:\n",
    "        return min(a,b)"
   ]
  },
  {
   "cell_type": "code",
   "execution_count": 6,
   "metadata": {},
   "outputs": [
    {
     "name": "stdout",
     "output_type": "stream",
     "text": [
      "['p', '/p', 'a', 'img', '/a', 'pre', 'code', '/code', '/pre']\n"
     ]
    }
   ],
   "source": [
    "#On affiche les balises détectées dans le corps du premier texte (la liste interdite est vide pour l'instant)\n",
    "balises_debut = find_balises([data.iloc[0,1]], [])\n",
    "print(balises_debut)"
   ]
  },
  {
   "cell_type": "markdown",
   "metadata": {},
   "source": [
    "Notre fonction pour détecter les balises de traitement de texte semble marcher, on va pouvoir lister les balises présentes dans notre corpus et les traiter convenablement. Celles déjà trouvées sont **<p\\>** qui indique un paragraphe, **<a ...\\>** qui permet d'insérer un lien hypertexte (qui est détaillé entre les chevrons), **<img\\>** qui permet d'insérer une image, **<pre\\>** qui permet d'insérer du texte formaté et **<code\\>** qui permet d'écrire des lignes de code."
   ]
  },
  {
   "cell_type": "code",
   "execution_count": 7,
   "metadata": {
    "scrolled": true
   },
   "outputs": [
    {
     "name": "stdout",
     "output_type": "stream",
     "text": [
      "['strong', '/strong', 'em', '/em', 'ul', 'li', '/li', '/ul', 'blockquote', '/blockquote', 'hr', 'ol', '/ol', 'br', 'b', '/b', 'div', '/div', 'h2', '/h2', 'h3', '/h3', 'strike', '/strike', 'sup', '/sup', 'sub', '/sub', 'br/', 'A', '/A', 'hr/', 'h1', '/h1', 'kbd', '/kbd', 'h4', '/h4', 'hR', 'i', '/i', 's', '/s', 'del', '/del', 'table', 'thead', 'tr', 'th', '/th', '/tr', '/thead', 'tbody', 'td', '/td', '/tbody', '/table', 'BR', 'UL', 'LI', '/UL', 'HR', 'bR', 'a\\nhref=\"http://java.dzone.com/articles/spring-test-mvc-junit-testing\"', 'a\\nhref=\"http://techdive.in/solutions/how-mock-securitycontextholder-perfrom-junit-tests-spring-controller\"', 'a\\nhref=\"https://stackoverflow.com/questions/5403818/how-to-junit-tests-a-preauthorize-annotation-and-its-spring-el-specified-by-a-s\"']\n",
      "['T', '', '<', 'List<int', 'int', 'XXX', 'deny', 'TKey,', 'meta', 'value', 'DerivedClass', 'BaseClass', 'type', '<<<<<<', '<<<<<', '<<<<', '<<<', '<<', 'string', 'object', '?', 'Animal', 'input', 'video', 'String', 'Func<', 'Base', 'Derived', '<1', '1', '<10?', '10?', 'td', 'ObjectEntity', 'ObjectDTO', 'n', 'SubType', '/SubType', 'label', 'script', 'origin', 'example.com', '*.example.com', 'std::mutex', 'pair', 'MyCustomClass', 'TElement', '/script', 'filename', 'my', 'div', 'select', 'form', 'alternatingitemtemplate/', 'X,', 'p:graphicImage', 'ui:repeat', '<,', ',', 'BusinessObject', 'url-pattern', 'ClassName', '-', '=', 'button', 'bool', 'Object', 'id', 'length;', 'table', 'thead', 'tbody', 'pages', 'Route', 'Routes', 'context:annotation-config', 'context:component-scan', 'TEntity', 'Key', 'in', 'K,V', 'key,', 'codecvt', 'title', 'Func<T', 'Integer', 'Func<,', 'details', 'li', 'Long', 'branch', 'cmath', 'class', 'path', '...', 'iframe', 'LinkedHashMap', 'MymodelClass', 'textarea', 'option', 'Obj,Obj', 'c:forEach', 'strong', 'b', 'string,string', 'body', 'audio', 't', 'undefined', 'TResult', '6', 'mutex', 'ISomeInterface', 'h:selectBooleanCheckbox', 'h:dataTable', 'KeyValuePair<', 'MyFragment', 'private', 'std::pair', '<\"', '\"', 'merge', 'include', 'canvas', 'h:form', 'afterHash', 'meta-data', 'E', 'ui:include', '=?', 'system_error', 'span', 'Fn()', 'std::unique_ptr<T', 'queries', 'manifest', 'UpdateFunction', '__debug', 'Point', 'DataBuffer', 'TargetFramework', 'RuntimeFrameworkVersion', 'Django', 'h1', 'bits/stdc++.h', 'ui:composition', 'f:metadata', 'String,', 'key', 'language', 'Entity', 'Router', 'https://conda.anaconda.org/anaconda/win-64', '2.8.0', 'angled', 'random']\n"
     ]
    }
   ],
   "source": [
    "#On va chercher les balises des corps des textes du corpus, en excluant celles déjà trouvées dans le premier texte\n",
    "balises_total = find_balises(data['Body'], balises_debut)\n",
    "print(balises_total)\n",
    "#On en profite pour lister les balises présentes dans les titres des questions (même si le premier n'en contenait pas)\n",
    "balises_titres = find_balises(data['Title'], balises_debut)\n",
    "print(balises_titres)"
   ]
  },
  {
   "cell_type": "markdown",
   "metadata": {},
   "source": [
    "Beaucoup de nouvelles balises apparaissent, et certaines échappent à notre connaissance du html. Nous allons donc chercher des exemples de textes utilisant ces balises inconnues pour voir s'il faut conserver leur contenu ou non."
   ]
  },
  {
   "cell_type": "code",
   "execution_count": 8,
   "metadata": {},
   "outputs": [],
   "source": [
    "#La fonction va chercher dans nos textes un exemple pour chaque balise donnée en paramètre\n",
    "def chercher_exemples(textes, balises):\n",
    "    result = []\n",
    "    for t in textes :\n",
    "        #On commence par chercher une balise\n",
    "        temp = t.find('<')\n",
    "        n = len(t)\n",
    "        while temp >= 0:\n",
    "            end1 = t.find('>', temp+1, n)\n",
    "            end2 = t.find(' ', temp+1, n)\n",
    "            candidat = t[temp+1:min_modif(end1, end2, n)]\n",
    "            #Si la balise est listée en paramètre...\n",
    "            if (candidat in balises):\n",
    "                #... on cherche la balise fermante associée\n",
    "                temp_close = t.find('</'+candidat, end1+1, n)\n",
    "                temp_end = t.find('>', temp_close+1, n)\n",
    "                #On sauvegarde le contenu entre les deux balises\n",
    "                result.append(t[temp:temp_end+1])\n",
    "                #On enlève cette balise de la liste des balises recherchées\n",
    "                balises.remove(candidat)\n",
    "            temp = t.find('<', temp+1, n)\n",
    "    return result"
   ]
  },
  {
   "cell_type": "code",
   "execution_count": 9,
   "metadata": {},
   "outputs": [
    {
     "name": "stdout",
     "output_type": "stream",
     "text": [
      "<b>Prototype</b>\n",
      "<div class=\"snippet\" data-lang=\"js\" data-hide=\"false\" data-console=\"false\" data-babel=\"false\">\r\n",
      "<div class=\"snippet-code\">\r\n",
      "<pre class=\"snippet-code-js lang-js prettyprint-override\"><code>function myJsFunc() {\r\n",
      "    alert(\"myJsFunc\");\r\n",
      "}</code></pre>\r\n",
      "<pre class=\"snippet-code-html lang-html prettyprint-override\"><code>&lt;a href=\"#\" onclick=\"myJsFunc();\"&gt;Run JavaScript Code&lt;/a&gt;</code></pre>\r\n",
      "</div>\n",
      "<strike><a href=\"http://www.bestechvideos.com/2008/06/08/dimecasts-net-introduction-to-mocking-with-moq\" rel=\"noreferrer\">http://www.bestechvideos.com/2008/06/08/dimecasts-net-introduction-to-mocking-with-moq</a></strike>\n",
      "<kbd>\"<strong>LATENCY</strong>\"</kbd>\n",
      "<i>(*) I edited my question based in the <a href=\"https://stackoverflow.com/questions/4046/can-someone-give-me-a-working-example-of-a-buildxml-for-an-ear-that-deploys-in-#4298\">suggestion</a> of to use pastebin.ca</i>\n",
      "<s>Unboxed (immutable)</s>\n",
      "<del>.NET Framework</del>\n"
     ]
    }
   ],
   "source": [
    "#On liste les balises qui nous posent problème\n",
    "balises_inconnues = ['b', 'div', 'strike', 'kbd', 'i', 's', 'del']\n",
    "#On cherche des exemples pour chacune de ces balises\n",
    "exemples = chercher_exemples(data['Body'], balises_inconnues)\n",
    "#Et on les affiche\n",
    "for t in exemples:\n",
    "    print(t)"
   ]
  },
  {
   "cell_type": "markdown",
   "metadata": {},
   "source": [
    "Nous allons maintenant pouvoir mettre nos textes au format qui nous intéresse : un *string* en anglais, sans balises de formatage html. Il nous faudra pour cela distinguer deux types de balises : d'un côté celles qui mettent en forme le texte qui nous intéresse (par exemple en le mettant en gras ou en indiquant les paragraphes), de l'autre celles qui permettent d'insérer du contenu non textuelle (liens hypertextes, images, extraits de codes...). Dans le premier cas il nous faudra simplement supprimer les balises (i.e. ce qui se trouve entre \"**\\<**\" et \"**\\>**\"), tandis que dans le second cas il faudra également supprimer ce qui se trouve entre la balise ouvrante **<balise\\>** et la balise fermante associée **<\\balise\\>**."
   ]
  },
  {
   "cell_type": "code",
   "execution_count": 10,
   "metadata": {},
   "outputs": [],
   "source": [
    "#On va formater nos textes en ôtant les balises. Pour certaines d'entre elles (listées dans \"bal_suppr\")\n",
    "#il faudra aussi supprimer le contenu ENTRE les balises (par exemple les bouts de code ou les insertions d'images)\n",
    "def formatage_texte(texte, bal_suppr):\n",
    "    #On cherche une première balise\n",
    "    temp = texte.find('<')\n",
    "    n = len(texte)\n",
    "    while temp >= 0:\n",
    "        #On identifie la balise en cherchant le premier espace ou chevron fermant\n",
    "        end1 = texte.find('>', temp+1, n)\n",
    "        end2 = texte.find(' ', temp+1, n)\n",
    "        candidat = texte[temp+1:min_modif(end1, end2, n)]\n",
    "        #On initialise le point où redémarrer\n",
    "        restart = temp+1\n",
    "        #On vérifie qu'il s'agisse bien d'une balise\n",
    "        if end1 > 0:\n",
    "            #Si la balise est dans \"balise_suppr\"...\n",
    "            if (candidat in bal_suppr):\n",
    "                #... on cherche la balise fermante associée\n",
    "                temp_close = texte.find('</'+candidat, end1+1, n)\n",
    "                temp_end = texte.find('>', temp_close+1, n)\n",
    "                #On supprime du texte les deux balises et ce qui se trouvait entre elles\n",
    "                if temp_end < n:\n",
    "                    texte = texte[:temp] + texte[temp_end+1:]\n",
    "                #Si la balise fermante est tout a la fin on n'a pas de second morceau dans l'opération\n",
    "                else:\n",
    "                    texte = texte[:temp]\n",
    "            #Sinon c'est une balise simple (ouvrante ou fermante, qu'importe)\n",
    "            else :\n",
    "                #On supprime la balise du texte étudié\n",
    "                if end1 < n:\n",
    "                    texte = texte[:temp] + texte[end1+1:]\n",
    "                #Si la balise est tout a la fin on n'a pas de second morceau dans l'opération\n",
    "                else:\n",
    "                    texte = texte[:temp]\n",
    "            \n",
    "            #On met à jour la longueur du texte et le redémarrage après suppression\n",
    "            n = len(texte)\n",
    "            restart = temp\n",
    "        #On cherche la balise suivante\n",
    "        temp = texte.find('<', restart, n)\n",
    "    return texte"
   ]
  },
  {
   "cell_type": "code",
   "execution_count": 11,
   "metadata": {},
   "outputs": [
    {
     "name": "stdout",
     "output_type": "stream",
     "text": [
      "I have this image. It's a map of the UK (not including Southern Ireland):\n",
      "\n",
      " \n",
      "\n",
      "I have successfully managed to get a latitude and longitude and plot it onto this map by taking the leftmost longitude and rightmost longitude of the UK and using them to work out where to put the point on the map.\n",
      "\n",
      "This is the code (for use in Processing.js but could be used as js or anything):\n",
      "\n",
      "\n",
      "\n",
      "However, I haven't been able to implement a Mercator projection on these values. The plots are reasonably accurate but they are not good enough and this projection would solve it.\n",
      "\n",
      "I can't figure out how to do it. All the examples I find are explaining how to do it for the whole world.  is a good resource of examples explaining how to implement the projection but I haven't been able to get it to work.\n",
      "\n",
      "Another resource is the  where I got the latitude and longitude values of the bounding box around the UK. They are also here:\n",
      "\n",
      "\n",
      "\n",
      "If anyone could help me with this, I would greatly appreciate it!\n",
      "\n",
      "Thanks\n",
      "\n"
     ]
    }
   ],
   "source": [
    "#On va tester notre formatage sur le corps du premier texte\n",
    "texte_test = data.iloc[0,1]\n",
    "#On supprimera le contenu des balises \"a\" pour les liens hypertexte, ainsi que \"pre\" et \"code\" qui\n",
    "#insèrent des bouts de code, et non du texte en anglais\n",
    "balises_supprimer = ['a', 'pre', 'code']\n",
    "#On affiche le résultat obtenu\n",
    "print(formatage_texte(texte_test, balises_supprimer))"
   ]
  },
  {
   "cell_type": "markdown",
   "metadata": {},
   "source": [
    "Notre fonction de formatage a l'air de marcher, nous allons donc l'appliquer à tous nos textes, avant de concaténer les titres et les corps pour n'obtenir qu'un seul bloc de texte cohérent et simple à traiter."
   ]
  },
  {
   "cell_type": "code",
   "execution_count": 12,
   "metadata": {},
   "outputs": [
    {
     "data": {
      "text/html": [
       "<div>\n",
       "<style scoped>\n",
       "    .dataframe tbody tr th:only-of-type {\n",
       "        vertical-align: middle;\n",
       "    }\n",
       "\n",
       "    .dataframe tbody tr th {\n",
       "        vertical-align: top;\n",
       "    }\n",
       "\n",
       "    .dataframe thead th {\n",
       "        text-align: right;\n",
       "    }\n",
       "</style>\n",
       "<table border=\"1\" class=\"dataframe\">\n",
       "  <thead>\n",
       "    <tr style=\"text-align: right;\">\n",
       "      <th></th>\n",
       "      <th>Tags</th>\n",
       "      <th>Texte</th>\n",
       "    </tr>\n",
       "  </thead>\n",
       "  <tbody>\n",
       "    <tr>\n",
       "      <th>0</th>\n",
       "      <td>&lt;javascript&gt;&lt;geolocation&gt;&lt;projection&gt;&lt;processi...</td>\n",
       "      <td>Mercator longitude and latitude calculations t...</td>\n",
       "    </tr>\n",
       "    <tr>\n",
       "      <th>1</th>\n",
       "      <td>&lt;c++&gt;&lt;file-format&gt;&lt;autocad&gt;&lt;cad&gt;&lt;solid-bodies&gt;</td>\n",
       "      <td>Starting point for learning CAD/CAE file forma...</td>\n",
       "    </tr>\n",
       "    <tr>\n",
       "      <th>2</th>\n",
       "      <td>&lt;c#&gt;&lt;.net&gt;&lt;linq&gt;&lt;datatable&gt;&lt;.net-3.5&gt;</td>\n",
       "      <td>LINQ query on a DataTable\\nI'm trying to perfo...</td>\n",
       "    </tr>\n",
       "    <tr>\n",
       "      <th>3</th>\n",
       "      <td>&lt;c++&gt;&lt;performance&gt;&lt;optimization&gt;&lt;stl&gt;&lt;c++-faq&gt;</td>\n",
       "      <td>How to overload std::swap()\\n is used by many ...</td>\n",
       "    </tr>\n",
       "    <tr>\n",
       "      <th>4</th>\n",
       "      <td>&lt;c&gt;&lt;file&gt;&lt;directory&gt;&lt;cross-platform&gt;&lt;common-ta...</td>\n",
       "      <td>How do you get a directory listing in C?\\nHow ...</td>\n",
       "    </tr>\n",
       "  </tbody>\n",
       "</table>\n",
       "</div>"
      ],
      "text/plain": [
       "                                                Tags  \\\n",
       "0  <javascript><geolocation><projection><processi...   \n",
       "1     <c++><file-format><autocad><cad><solid-bodies>   \n",
       "2              <c#><.net><linq><datatable><.net-3.5>   \n",
       "3     <c++><performance><optimization><stl><c++-faq>   \n",
       "4  <c><file><directory><cross-platform><common-ta...   \n",
       "\n",
       "                                               Texte  \n",
       "0  Mercator longitude and latitude calculations t...  \n",
       "1  Starting point for learning CAD/CAE file forma...  \n",
       "2  LINQ query on a DataTable\\nI'm trying to perfo...  \n",
       "3  How to overload std::swap()\\n is used by many ...  \n",
       "4  How do you get a directory listing in C?\\nHow ...  "
      ]
     },
     "execution_count": 12,
     "metadata": {},
     "output_type": "execute_result"
    }
   ],
   "source": [
    "#On liste les balises dont on souhaite supprimer le contenu\n",
    "balises_supprimer = ['a', 'pre', 'code']\n",
    "#On applique la fonction aux titres et aux corps\n",
    "Title_formated = data['Title'].apply(lambda x : formatage_texte(x, balises_supprimer))\n",
    "Body_formated = data['Body'].apply(lambda x : formatage_texte(x, balises_supprimer))\n",
    "#On concatène le titre et le corps formatés pour avoir un unique texte en anglais\n",
    "data['Texte'] = Title_formated + '\\n' + Body_formated\n",
    "data.drop(columns=['Title', 'Body'], inplace=True)\n",
    "data.head()"
   ]
  },
  {
   "cell_type": "markdown",
   "metadata": {},
   "source": [
    "On laisse les tags sous ce format pour l'export en .csv, on les transformera en listes lors de l'exploitation dans l'approche supervisée."
   ]
  },
  {
   "cell_type": "markdown",
   "metadata": {},
   "source": [
    "## Nettoyage des textes\n",
    "\n",
    "Commençons par supprimer les nombres ainsi que les sauts de lignes et espacements multiples dans nos textes."
   ]
  },
  {
   "cell_type": "code",
   "execution_count": 13,
   "metadata": {},
   "outputs": [
    {
     "name": "stdout",
     "output_type": "stream",
     "text": [
      "How to overload std::swap() is used by many std containers (such as and ) during sorting and even assignment. But the std implementation of is very generalized and rather inefficient for custom types. Thus efficiency can be gained by overloading with a custom type specific implementation. But how can you implement it so it will be used by the std containers? \n"
     ]
    }
   ],
   "source": [
    "#On supprime les nombres\n",
    "data['Texte'].replace(r'\\d+', '', regex=True, inplace=True)\n",
    "data['Texte'].replace(rf\"[{re.escape(string.whitespace)}]+\", ' ', regex=True, inplace=True)\n",
    "print(data['Texte'].iloc[3])"
   ]
  },
  {
   "cell_type": "markdown",
   "metadata": {},
   "source": [
    "A présent nous allons préparer un second format de texte, sans ponctuations, dans lequel les mots seront lemmatisés, triés eet mis en minuscule. Ce format servira à faire des vectorisations non contextuelles telles que la méthode \"*Bag of Words*\"."
   ]
  },
  {
   "cell_type": "code",
   "execution_count": 14,
   "metadata": {},
   "outputs": [
    {
     "name": "stdout",
     "output_type": "stream",
     "text": [
      "how to overload stdswap is used by many std containers such as and  during sorting and even assignment but the std implementation of is very generalized and rather inefficient for custom types thus efficiency can be gained by overloading with a custom type specific implementation but how can you implement it so it will be used by the std containers \n"
     ]
    }
   ],
   "source": [
    "#On supprime les signes de ponctuation, en isolant le caractère ' (puisqu'utilisé pour délimiter le pattern recherché) \n",
    "data['Texte_clean'] = data['Texte'].replace(r'[.,!?:;-=...\"@#_()]', '', regex=True)\n",
    "data['Texte_clean'].replace(r\"'\", '', regex=True, inplace=True)\n",
    "#On remplace les majuscules par leurs versions minuscules\n",
    "data['Texte_clean'] = data['Texte_clean'].apply(lambda x : x.lower())\n",
    "#On vérifie que cela a fonctionné sur un des textes\n",
    "print(data['Texte_clean'].iloc[3])"
   ]
  },
  {
   "cell_type": "code",
   "execution_count": 15,
   "metadata": {
    "scrolled": true
   },
   "outputs": [
    {
     "data": {
      "text/html": [
       "<div>\n",
       "<style scoped>\n",
       "    .dataframe tbody tr th:only-of-type {\n",
       "        vertical-align: middle;\n",
       "    }\n",
       "\n",
       "    .dataframe tbody tr th {\n",
       "        vertical-align: top;\n",
       "    }\n",
       "\n",
       "    .dataframe thead th {\n",
       "        text-align: right;\n",
       "    }\n",
       "</style>\n",
       "<table border=\"1\" class=\"dataframe\">\n",
       "  <thead>\n",
       "    <tr style=\"text-align: right;\">\n",
       "      <th></th>\n",
       "      <th>Tags</th>\n",
       "      <th>Texte</th>\n",
       "      <th>Texte_clean</th>\n",
       "    </tr>\n",
       "  </thead>\n",
       "  <tbody>\n",
       "    <tr>\n",
       "      <th>0</th>\n",
       "      <td>&lt;javascript&gt;&lt;geolocation&gt;&lt;projection&gt;&lt;processi...</td>\n",
       "      <td>Mercator longitude and latitude calculations t...</td>\n",
       "      <td>mercator longitude and latitude calculations t...</td>\n",
       "    </tr>\n",
       "    <tr>\n",
       "      <th>1</th>\n",
       "      <td>&lt;c++&gt;&lt;file-format&gt;&lt;autocad&gt;&lt;cad&gt;&lt;solid-bodies&gt;</td>\n",
       "      <td>Starting point for learning CAD/CAE file forma...</td>\n",
       "      <td>starting point for learning cad/cae file forma...</td>\n",
       "    </tr>\n",
       "    <tr>\n",
       "      <th>2</th>\n",
       "      <td>&lt;c#&gt;&lt;.net&gt;&lt;linq&gt;&lt;datatable&gt;&lt;.net-3.5&gt;</td>\n",
       "      <td>LINQ query on a DataTable I'm trying to perfor...</td>\n",
       "      <td>linq query on a datatable im trying to perform...</td>\n",
       "    </tr>\n",
       "    <tr>\n",
       "      <th>3</th>\n",
       "      <td>&lt;c++&gt;&lt;performance&gt;&lt;optimization&gt;&lt;stl&gt;&lt;c++-faq&gt;</td>\n",
       "      <td>How to overload std::swap() is used by many st...</td>\n",
       "      <td>how to overload stdswap is used by many std co...</td>\n",
       "    </tr>\n",
       "    <tr>\n",
       "      <th>4</th>\n",
       "      <td>&lt;c&gt;&lt;file&gt;&lt;directory&gt;&lt;cross-platform&gt;&lt;common-ta...</td>\n",
       "      <td>How do you get a directory listing in C? How d...</td>\n",
       "      <td>how do you get a directory listing in c how do...</td>\n",
       "    </tr>\n",
       "  </tbody>\n",
       "</table>\n",
       "</div>"
      ],
      "text/plain": [
       "                                                Tags  \\\n",
       "0  <javascript><geolocation><projection><processi...   \n",
       "1     <c++><file-format><autocad><cad><solid-bodies>   \n",
       "2              <c#><.net><linq><datatable><.net-3.5>   \n",
       "3     <c++><performance><optimization><stl><c++-faq>   \n",
       "4  <c><file><directory><cross-platform><common-ta...   \n",
       "\n",
       "                                               Texte  \\\n",
       "0  Mercator longitude and latitude calculations t...   \n",
       "1  Starting point for learning CAD/CAE file forma...   \n",
       "2  LINQ query on a DataTable I'm trying to perfor...   \n",
       "3  How to overload std::swap() is used by many st...   \n",
       "4  How do you get a directory listing in C? How d...   \n",
       "\n",
       "                                         Texte_clean  \n",
       "0  mercator longitude and latitude calculations t...  \n",
       "1  starting point for learning cad/cae file forma...  \n",
       "2  linq query on a datatable im trying to perform...  \n",
       "3  how to overload stdswap is used by many std co...  \n",
       "4  how do you get a directory listing in c how do...  "
      ]
     },
     "execution_count": 15,
     "metadata": {},
     "output_type": "execute_result"
    }
   ],
   "source": [
    "data.head()"
   ]
  },
  {
   "cell_type": "markdown",
   "metadata": {},
   "source": [
    "A présent nous allons retirer les \"*stopwords*\" qui sont des mots de structure et apportent peu de sens à la phrase, avant de lemmatiser les mots (i.e. les ramener à une forme canonique, l'infinitif pour les verbes, le singulier pour les noms...). Nous en profiterons pour effectuer du \"*POS tagging*\", c'est-à-dire trier les mots selon leur fonction grammaticale."
   ]
  },
  {
   "cell_type": "code",
   "execution_count": 16,
   "metadata": {},
   "outputs": [],
   "source": [
    "#Une fonction permettant de retirer les mots présents dans une liste de stopwords donnée en paramètres\n",
    "def remove_stopwords(texte, stop):\n",
    "    words = texte.split(' ')\n",
    "    noise_free_words = [word for word in words if word not in stop] \n",
    "    return \" \".join(noise_free_words)\n",
    "\n",
    "#Une fonction qui utilisera le lemmatiseur donné en paramètres pour transofrmer et filtrer les mots dans nos textes\n",
    "def lemmatizer_noms(texte, nlp, types_retenus=[]):  \n",
    "    #On lemmatise le texte\n",
    "    temp = nlp(texte)\n",
    "    #Par défaut on retient tous les mots obtenus\n",
    "    if types_retenus == []:\n",
    "        result = [mot.lemma_ for mot in temp if len(mot.lemma_) > 1]\n",
    "    #Sinon on ajoute un tri sur la nature du mot\n",
    "    else :\n",
    "        result = [mot.lemma_ for mot in temp if (len(mot.lemma_) > 1 and mot.pos_ in types_retenus)]\n",
    "        #S'il n'y a aucun mot conservé par notre traitement, on renvoie une phrase \"NONE\"\n",
    "        if result == []:\n",
    "            result = ['NONE']\n",
    "    #On renvoie la liste de mots lemmatisés\n",
    "    return ' '.join(result)"
   ]
  },
  {
   "cell_type": "code",
   "execution_count": 17,
   "metadata": {},
   "outputs": [
    {
     "name": "stderr",
     "output_type": "stream",
     "text": [
      "[nltk_data] Downloading package stopwords to\n",
      "[nltk_data]     C:\\Users\\monte\\AppData\\Roaming\\nltk_data...\n",
      "[nltk_data]   Package stopwords is already up-to-date!\n"
     ]
    },
    {
     "data": {
      "text/html": [
       "<div>\n",
       "<style scoped>\n",
       "    .dataframe tbody tr th:only-of-type {\n",
       "        vertical-align: middle;\n",
       "    }\n",
       "\n",
       "    .dataframe tbody tr th {\n",
       "        vertical-align: top;\n",
       "    }\n",
       "\n",
       "    .dataframe thead th {\n",
       "        text-align: right;\n",
       "    }\n",
       "</style>\n",
       "<table border=\"1\" class=\"dataframe\">\n",
       "  <thead>\n",
       "    <tr style=\"text-align: right;\">\n",
       "      <th></th>\n",
       "      <th>Tags</th>\n",
       "      <th>Texte</th>\n",
       "      <th>Texte_clean</th>\n",
       "    </tr>\n",
       "  </thead>\n",
       "  <tbody>\n",
       "    <tr>\n",
       "      <th>0</th>\n",
       "      <td>&lt;javascript&gt;&lt;geolocation&gt;&lt;projection&gt;&lt;processi...</td>\n",
       "      <td>Mercator longitude and latitude calculations t...</td>\n",
       "      <td>mercator longitude latitude calculation map uk...</td>\n",
       "    </tr>\n",
       "    <tr>\n",
       "      <th>1</th>\n",
       "      <td>&lt;c++&gt;&lt;file-format&gt;&lt;autocad&gt;&lt;cad&gt;&lt;solid-bodies&gt;</td>\n",
       "      <td>Starting point for learning CAD/CAE file forma...</td>\n",
       "      <td>point cad cae file stress analysis software un...</td>\n",
       "    </tr>\n",
       "    <tr>\n",
       "      <th>2</th>\n",
       "      <td>&lt;c#&gt;&lt;.net&gt;&lt;linq&gt;&lt;datatable&gt;&lt;.net-3.5&gt;</td>\n",
       "      <td>LINQ query on a DataTable I'm trying to perfor...</td>\n",
       "      <td>linq query datatable linq query object query e...</td>\n",
       "    </tr>\n",
       "    <tr>\n",
       "      <th>3</th>\n",
       "      <td>&lt;c++&gt;&lt;performance&gt;&lt;optimization&gt;&lt;stl&gt;&lt;c++-faq&gt;</td>\n",
       "      <td>How to overload std::swap() is used by many st...</td>\n",
       "      <td>overload stdswap container assignment implemen...</td>\n",
       "    </tr>\n",
       "    <tr>\n",
       "      <th>4</th>\n",
       "      <td>&lt;c&gt;&lt;file&gt;&lt;directory&gt;&lt;cross-platform&gt;&lt;common-ta...</td>\n",
       "      <td>How do you get a directory listing in C? How d...</td>\n",
       "      <td>directory scan directory folder file cross pla...</td>\n",
       "    </tr>\n",
       "  </tbody>\n",
       "</table>\n",
       "</div>"
      ],
      "text/plain": [
       "                                                Tags  \\\n",
       "0  <javascript><geolocation><projection><processi...   \n",
       "1     <c++><file-format><autocad><cad><solid-bodies>   \n",
       "2              <c#><.net><linq><datatable><.net-3.5>   \n",
       "3     <c++><performance><optimization><stl><c++-faq>   \n",
       "4  <c><file><directory><cross-platform><common-ta...   \n",
       "\n",
       "                                               Texte  \\\n",
       "0  Mercator longitude and latitude calculations t...   \n",
       "1  Starting point for learning CAD/CAE file forma...   \n",
       "2  LINQ query on a DataTable I'm trying to perfor...   \n",
       "3  How to overload std::swap() is used by many st...   \n",
       "4  How do you get a directory listing in C? How d...   \n",
       "\n",
       "                                         Texte_clean  \n",
       "0  mercator longitude latitude calculation map uk...  \n",
       "1  point cad cae file stress analysis software un...  \n",
       "2  linq query datatable linq query object query e...  \n",
       "3  overload stdswap container assignment implemen...  \n",
       "4  directory scan directory folder file cross pla...  "
      ]
     },
     "execution_count": 17,
     "metadata": {},
     "output_type": "execute_result"
    }
   ],
   "source": [
    "#On utilisera les stopwords de nltk\n",
    "nltk.download('stopwords')\n",
    "stop = set(stopwords.words('english'))\n",
    "#On utilisera le lemmatiseur de spacy\n",
    "nlp = spacy.load('en_core_web_sm')\n",
    "#On retiendra les noms et noms propres\n",
    "types_retenus = ['NOUN', 'PROPN', 'VER']\n",
    "\n",
    "#On applique nos fonctions précédemment codées pour transformer notre texte\n",
    "data['Texte_clean'] = data['Texte_clean'].apply(lambda x: remove_stopwords(x, stop))\n",
    "data['Texte_clean'] = data['Texte_clean'].apply(lambda x: lemmatizer_noms(x, nlp, types_retenus))\n",
    "data.head()"
   ]
  },
  {
   "cell_type": "markdown",
   "metadata": {},
   "source": [
    "Il ne reste plus qu'à sauvegarder notre base de données : les tags sous la forme d'un string où chaque tag est entre chevrons et le texte sous deux formats explpoitables différents"
   ]
  },
  {
   "cell_type": "code",
   "execution_count": 18,
   "metadata": {},
   "outputs": [],
   "source": [
    "data.to_csv(path_or_buf='database_clean.csv', index = False)"
   ]
  },
  {
   "cell_type": "code",
   "execution_count": null,
   "metadata": {},
   "outputs": [],
   "source": []
  }
 ],
 "metadata": {
  "kernelspec": {
   "display_name": "Python 3 (ipykernel)",
   "language": "python",
   "name": "python3"
  },
  "language_info": {
   "codemirror_mode": {
    "name": "ipython",
    "version": 3
   },
   "file_extension": ".py",
   "mimetype": "text/x-python",
   "name": "python",
   "nbconvert_exporter": "python",
   "pygments_lexer": "ipython3",
   "version": "3.9.12"
  }
 },
 "nbformat": 4,
 "nbformat_minor": 2
}
